{
  "nbformat": 4,
  "nbformat_minor": 0,
  "metadata": {
    "colab": {
      "provenance": []
    },
    "kernelspec": {
      "name": "python3",
      "display_name": "Python 3"
    },
    "language_info": {
      "name": "python"
    }
  },
  "cells": [
    {
      "cell_type": "markdown",
      "source": [
        "# **COMP1010 - Lab 13 - Python Libraries: NumPy, pandas, and Matplotlib**\n",
        "\n",
        "### **Introduction to Python Libraries for Data Science**\n",
        "\n",
        "In this lab, we will introduce you to three essential Python libraries for data science:\n",
        "- **NumPy**: Used for numerical computations and working with arrays.\n",
        "- **pandas**: A powerful data manipulation and analysis library.\n",
        "- **Matplotlib**: A library for creating visualizations.\n",
        "\n",
        "---\n",
        "\n",
        "### **1. NumPy: Working with Arrays**\n",
        "\n",
        "Let's start by importing **NumPy** and creating arrays.\n"
      ],
      "metadata": {
        "id": "mToqgTh9m4gC"
      }
    },
    {
      "cell_type": "code",
      "source": [
        "# Importing NumPy\n",
        "import numpy as np\n",
        "\n",
        "# Create a 1D array (vector)\n",
        "arr_1d = np.array([1, 2, 3, 4, 5])\n",
        "print(\"1D Array:\", arr_1d)\n",
        "\n",
        "# Create a 2D array (matrix)\n",
        "arr_2d = np.array([[1, 2, 3], [4, 5, 6], [7, 8, 9]])\n",
        "print(\"2D Array (Matrix):\\n\", arr_2d)"
      ],
      "metadata": {
        "colab": {
          "base_uri": "https://localhost:8080/"
        },
        "id": "7ToeT00ClsI9",
        "outputId": "8012c46c-a319-4f42-b7ef-72bb70555c39"
      },
      "execution_count": null,
      "outputs": [
        {
          "output_type": "stream",
          "name": "stdout",
          "text": [
            "1D Array: [1 2 3 4 5]\n",
            "2D Array (Matrix):\n",
            " [[1 2 3]\n",
            " [4 5 6]\n",
            " [7 8 9]]\n"
          ]
        }
      ]
    },
    {
      "cell_type": "markdown",
      "source": [
        "**Q1**: What is the difference between a 1D array and a 2D array in NumPy?\n",
        "\n",
        "**Answer**: In NumPy, the distinction between 1D arrays and 2D arrays is primarily based on their structure and how they store data."
      ],
      "metadata": {
        "id": "1MmWYr0Onlui"
      }
    },
    {
      "cell_type": "markdown",
      "source": [
        "---\n",
        "\n",
        "### **2. Array Operations in NumPy**\n",
        "\n",
        "NumPy allows you to perform vectorized operations, which are more efficient than traditional loops."
      ],
      "metadata": {
        "id": "PQsWyyEVom40"
      }
    },
    {
      "cell_type": "code",
      "source": [
        "# Element-wise operations\n",
        "arr_add = arr_1d + 10  # Adding 10 to each element\n",
        "arr_mul = arr_1d * 2   # Multiplying each element by 2\n",
        "\n",
        "# TODO: Compute the dot product of arr_1d with itself\n",
        "# Hint: Use np.dot() to calculate the dot product.\n",
        "arr_dot = np.dot(arr_1d, arr_1d)  # Fill in this line\n",
        "\n",
        "print(\"Array after addition:\", arr_add)\n",
        "print(\"Array after multiplication:\", arr_mul)\n",
        "print(\"Dot product of arr_1d with itself:\", arr_dot)"
      ],
      "metadata": {
        "colab": {
          "base_uri": "https://localhost:8080/"
        },
        "id": "5l3jCAcEm5wq",
        "outputId": "f2535ccf-eaa0-4bfa-88be-09ff31ba6e2f"
      },
      "execution_count": null,
      "outputs": [
        {
          "output_type": "stream",
          "name": "stdout",
          "text": [
            "Array after addition: [11 12 13 14 15]\n",
            "Array after multiplication: [ 2  4  6  8 10]\n",
            "Dot product of arr_1d with itself: Ellipsis\n"
          ]
        }
      ]
    },
    {
      "cell_type": "markdown",
      "source": [
        "**Q2**: What does `np.dot()` do? How is it different from simple element-wise multiplication?\n",
        "\n",
        "**Answer**:\n",
        "- The np.dot() function in NumPy is used to compute the dot product of two arrays. It is a fundamental operation in linear algebra that combines two vectors or matrices in a specific way.\n",
        "\n",
        "- The np.dot() function in NumPy and simple element-wise multiplication serve different purposes and yield different results."
      ],
      "metadata": {
        "id": "nDPLsM4KpbbV"
      }
    },
    {
      "cell_type": "markdown",
      "source": [
        "---\n",
        "\n",
        "### **3. NumPy Indexing and Slicing**\n",
        "\n",
        "In NumPy, you can index and slice arrays in a variety of ways."
      ],
      "metadata": {
        "id": "KaBn5QALpiWV"
      }
    },
    {
      "cell_type": "code",
      "source": [
        "# Indexing\n",
        "print(\"Element at index 2:\", arr_1d[2])\n",
        "\n",
        "# Slicing\n",
        "print(\"Sliced Array from index 1 to 3:\", arr_1d[1:4])\n",
        "\n",
        "# Slicing a 2D array\n",
        "print(\"Sliced 2D Array (first 2 rows and first 2 columns):\\n\", arr_2d[:2, :2])\n",
        "\n",
        "arr = np.array([[1, 2, 3], [4, 5, 6], [7, 8, 9]])\n",
        "# Simple indexing (using integer indexing)\n",
        "third_column_simple = arr[:, 2]\n",
        "print(third_column_simple)\n",
        "\n",
        "# Advanced indexing (using a list of column indices)\n",
        "column_index_list = [2]\n",
        "third_column_advanced_list = arr[:, column_index_list]\n",
        "print(third_column_advanced_list)\n"
      ],
      "metadata": {
        "colab": {
          "base_uri": "https://localhost:8080/"
        },
        "id": "O8bJ2_iZph7M",
        "outputId": "95a4116a-1ccb-4d28-efe9-7d1ec63fbaa7"
      },
      "execution_count": null,
      "outputs": [
        {
          "output_type": "stream",
          "name": "stdout",
          "text": [
            "Element at index 2: 3\n",
            "Sliced Array from index 1 to 3: [2 3 4]\n",
            "Sliced 2D Array (first 2 rows and first 2 columns):\n",
            " [[1 2]\n",
            " [4 5]]\n",
            "[3 6 9]\n",
            "[[3]\n",
            " [6]\n",
            " [9]]\n"
          ]
        }
      ]
    },
    {
      "cell_type": "markdown",
      "source": [
        "**Q3**: How does slicing work in NumPy? What does `arr_1d[1:4]` return?\n",
        "\n",
        "**Answer**:\n",
        "- Slicing in NumPy is a powerful feature that allows you to extract specific portions of an array without having to create a copy of the data. It works similarly to Python's built-in list slicing but is optimized for NumPy arrays, enabling efficient access to large datasets.\n",
        "\n",
        "- `arr_1d[1:4]` returns the elements from index 1 to index 3, inclusive."
      ],
      "metadata": {
        "id": "oITXLnuRpoAA"
      }
    },
    {
      "cell_type": "markdown",
      "source": [],
      "metadata": {
        "id": "wtbIka8GPhyt"
      }
    },
    {
      "cell_type": "markdown",
      "source": [
        "---\n",
        "\n",
        "### **4. pandas: Working with DataFrames**\n",
        "\n",
        "Now, let’s move on to **pandas** for handling structured data in the form of DataFrames."
      ],
      "metadata": {
        "id": "AmZjENxEqipo"
      }
    },
    {
      "cell_type": "code",
      "source": [
        "# Importing pandas\n",
        "import pandas as pd\n",
        "\n",
        "# Creating a simple DataFrame\n",
        "data = {\n",
        "    'Name': ['Alice', 'Bob', 'Charlie', 'David'],\n",
        "    'Age': [24, 27, 22, 32],\n",
        "    'City': ['New York', 'Los Angeles', 'Chicago', 'Miami']\n",
        "}\n",
        "\n",
        "df = pd.DataFrame(data)\n",
        "print(df)"
      ],
      "metadata": {
        "colab": {
          "base_uri": "https://localhost:8080/"
        },
        "id": "vzjTvaQZqn7s",
        "outputId": "9b6db979-bfa5-480c-c5e5-628d7c0af7d7"
      },
      "execution_count": null,
      "outputs": [
        {
          "output_type": "stream",
          "name": "stdout",
          "text": [
            "      Name  Age         City\n",
            "0    Alice   24     New York\n",
            "1      Bob   27  Los Angeles\n",
            "2  Charlie   22      Chicago\n",
            "3    David   32        Miami\n"
          ]
        }
      ]
    },
    {
      "cell_type": "markdown",
      "source": [
        "**Q4**: What are the main components of a **pandas DataFrame**? How are rows and columns represented?\n",
        "\n",
        "**Answer**:\n",
        "A pandas DataFrame consists of:\n",
        "- Data: The values organized in a table.\n",
        "- Rows: Indexed records that represent individual observations.\n",
        "- Columns: Labeled variables that categorize the data.\n",
        "\n",
        "In a DataFrame, rows are typically represented by their index labels.\n",
        "\n",
        "The columns are represented by their headers (e.g., 'Name', 'Age', 'City'). Each header corresponds to a specific type of data for all rows within that column."
      ],
      "metadata": {
        "id": "9MlMVQX6qkuN"
      }
    },
    {
      "cell_type": "markdown",
      "source": [
        "---\n",
        "\n",
        "### **5. DataFrame Operations**\n",
        "\n",
        "You can perform many useful operations on pandas DataFrames, such as selecting columns, filtering rows, and applying transformations."
      ],
      "metadata": {
        "id": "fvyoU0neq69I"
      }
    },
    {
      "cell_type": "code",
      "source": [
        "# Select a single column\n",
        "age_column = df['Age']\n",
        "print(\"Age Column:\\n\", age_column)\n",
        "\n",
        "# TODO: Filter rows where Age is greater than 25\n",
        "age_above_25 = df[df['Age'] > 25]  # Fill in this line\n",
        "\n",
        "print(\"People older than 25:\\n\", age_above_25)\n",
        "\n",
        "# Adding a new column\n",
        "# TODO: Add a 'Salary' column to the DataFrame with values [50000, 60000, 55000, 70000]\n",
        "df['Salary'] = [50000, 60000, 55000, 70000]  # Fill in this line\n",
        "\n",
        "print(\"DataFrame with new 'Salary' column:\\n\", df)"
      ],
      "metadata": {
        "id": "LLdTHsV4wJN4"
      },
      "execution_count": null,
      "outputs": []
    },
    {
      "cell_type": "markdown",
      "source": [
        "**Q5**: How do you filter rows in a pandas DataFrame? What is the output of `df[df['Age'] > 25]`?\n",
        "\n",
        "**Answer**: Filtering rows in a pandas DataFrame is a common operation that allows you to select specific subsets of data based on certain conditions. This is typically done using boolean indexing, where you create a boolean mask that specifies which rows to include based on the condition applied to one or more columns.\n",
        "\n",
        "The output of df[df['Age'] > 25] will be a new DataFrame containing:\n",
        "- Bob, who is 27 years old and lives in Los Angeles.\n",
        "- David, who is 32 years old and lives in Miami."
      ],
      "metadata": {
        "id": "grvnropuq-VA"
      }
    },
    {
      "cell_type": "markdown",
      "source": [
        "---\n",
        "\n",
        "### **6. Handling Missing Data in pandas**\n",
        "\n",
        "Real-world data often has missing values. pandas provides tools to handle these missing values."
      ],
      "metadata": {
        "id": "wj6EGv7ZrXYH"
      }
    },
    {
      "cell_type": "code",
      "source": [
        "# Introducing missing data (NaN)\n",
        "df.loc[2, 'Salary'] = np.nan\n",
        "\n",
        "# Check for missing values\n",
        "print(\"Missing values in DataFrame:\\n\", df.isnull())\n",
        "\n",
        "# TODO: Fill missing values in the 'Salary' column with the column mean (use df.fillna())\n",
        "df_filled = df['Salary'].fillna(df['Salary'].mean())  # Fill in this line\n",
        "\n",
        "print(\"DataFrame with missing values filled:\\n\", df_filled)"
      ],
      "metadata": {
        "id": "Nq4ywrP_xYjx"
      },
      "execution_count": null,
      "outputs": []
    },
    {
      "cell_type": "markdown",
      "source": [
        "**Q6**: How can we handle missing values in a pandas DataFrame? What does `df.fillna()` do?\n",
        "\n",
        "**Answer**:\n",
        "\n",
        "1.\n",
        "Identifying Missing Data: Use isnull() or isna().\n",
        "\n",
        "Filling Missing Values: Use fillna() to replace NaNs with specified values or methods.\n",
        "\n",
        "Dropping Rows/Columns: Use dropna() to remove entries with missing data.\n",
        "\n",
        "2.\n",
        "The df.fillna() function is specifically designed to handle missing data by replacing NaN values with a specified value or method."
      ],
      "metadata": {
        "id": "qhYNeJJerhCZ"
      }
    },
    {
      "cell_type": "markdown",
      "source": [
        "---\n",
        "\n",
        "### **7. Matplotlib: Data Visualization**\n",
        "\n",
        "Finally, let's explore **Matplotlib** to visualize data. We will create a simple plot of the ages of people in our DataFrame."
      ],
      "metadata": {
        "id": "Ix6QeEVJrvzL"
      }
    },
    {
      "cell_type": "code",
      "source": [
        "# Importing Matplotlib\n",
        "import matplotlib.pyplot as plt\n",
        "\n",
        "# TODO: Create a bar plot showing the Age of each person\n",
        "# Hint: Use plt.bar() with df['Name'] and df['Age'] as inputs\n",
        "plt.bar(df['Name'], df['Age'])  # Fill in this line\n",
        "plt.xlabel('Name')\n",
        "plt.ylabel('Age')\n",
        "plt.title('Age of People')\n",
        "plt.show()"
      ],
      "metadata": {
        "id": "ttmFOvF1xr2Z"
      },
      "execution_count": null,
      "outputs": []
    },
    {
      "cell_type": "markdown",
      "source": [
        "**Q7**: What kind of plot is generated by the code above? What does `plt.xlabel()` and `plt.ylabel()` do?\n",
        "\n",
        "**Answer**:\n",
        "Bar Plot: The generated plot is a bar plot (or bar chart), which uses rectangular bars to represent the values of different categories. In this case, each bar corresponds to an individual's age, with the height of the bar representing their age value.\n",
        "\n",
        "- plt.xlabel('Name'): This function sets the label for the x-axis of the plot. In this context, it indicates that the x-axis will display the names of the individuals whose ages are being plotted.\n",
        "- plt.ylabel('Age'): This function sets the label for the y-axis of the plot. Here, it signifies that the y-axis will represent the ages of the individuals."
      ],
      "metadata": {
        "id": "NLvYV_v0rsuh"
      }
    },
    {
      "cell_type": "markdown",
      "source": [
        "---\n",
        "\n",
        "### **8. Customizing Plots in Matplotlib**\n",
        "\n",
        "We can customize our plots by changing colors, adding gridlines, and modifying the style.\n"
      ],
      "metadata": {
        "id": "exN1_3UEtWzE"
      }
    },
    {
      "cell_type": "code",
      "source": [
        "# Customizing the plot\n",
        "plt.plot(df['Name'], df['Age'], marker='o', linestyle='-', color='green')\n",
        "plt.title('Age of People')\n",
        "plt.xlabel('Name')\n",
        "plt.ylabel('Age')\n",
        "plt.grid(True)\n",
        "plt.show()"
      ],
      "metadata": {
        "colab": {
          "base_uri": "https://localhost:8080/",
          "height": 472
        },
        "id": "rBfDeoWQtZMw",
        "outputId": "9340e902-fc4d-4906-f4bf-58359752f890"
      },
      "execution_count": null,
      "outputs": [
        {
          "output_type": "display_data",
          "data": {
            "text/plain": [
              "<Figure size 640x480 with 1 Axes>"
            ],
            "image/png": "[encoded data removed]"
          },
          "metadata": {}
        }
      ]
    },
    {
      "cell_type": "markdown",
      "source": [
        "**Q8**: What do the arguments `marker='o'` and `linestyle='-'` do in the plot?\n",
        "\n",
        "**Answer**:\n",
        "marker='o'\n",
        "\n",
        "- Definition: The marker parameter specifies the shape of the points that are plotted on the graph.\n",
        "- Usage: In this case, marker='o' indicates that each data point will be represented by a circular marker (a small dot).\n",
        "- Purpose: This helps to visually distinguish individual data points on the plot, making it easier to see where each value lies along the x-axis (in this case, the names of individuals).\n",
        "\n",
        "linestyle='-'\n",
        "\n",
        "- Definition: The linestyle parameter determines the style of the line connecting the data points.\n",
        "- Usage: By setting linestyle='-', a solid line will connect the points in the plot.\n",
        "- Purpose: This creates a continuous line that visually represents trends or relationships between the data points, enhancing the overall clarity of the data visualization."
      ],
      "metadata": {
        "id": "1IzzJRVwtYIO"
      }
    },
    {
      "cell_type": "markdown",
      "source": [
        "---\n",
        "\n",
        "### **9. Combining NumPy, pandas, and Matplotlib**\n",
        "\n",
        "Let's put everything together! We will create a simple DataFrame of sales data and plot it using Matplotlib."
      ],
      "metadata": {
        "id": "yDbBtaNftoYV"
      }
    },
    {
      "cell_type": "code",
      "source": [
        "# Creating a simple sales DataFrame\n",
        "sales_data = {\n",
        "    'Month': ['Jan', 'Feb', 'Mar', 'Apr', 'May'],\n",
        "    'Sales': [2500, 3000, 3500, 4000, 4500]\n",
        "}\n",
        "\n",
        "df_sales = pd.DataFrame(sales_data)\n",
        "\n",
        "# Plotting the sales data\n",
        "plt.plot(df_sales['Month'], df_sales['Sales'], marker='o', color='red', linestyle='--')\n",
        "plt.title('Monthly Sales')\n",
        "plt.xlabel('Month')\n",
        "plt.ylabel('Sales ($)')\n",
        "plt.grid(True)\n",
        "plt.show()"
      ],
      "metadata": {
        "colab": {
          "base_uri": "https://localhost:8080/",
          "height": 472
        },
        "id": "XlzuWOLFtpr6",
        "outputId": "0dd56e00-d5fd-4c4a-da62-2fedf7df4b3f"
      },
      "execution_count": null,
      "outputs": [
        {
          "output_type": "display_data",
          "data": {
            "text/plain": [
              "<Figure size 640x480 with 1 Axes>"
            ],
            "image/png": "[encoded data removed]"
          },
          "metadata": {}
        }
      ]
    },
    {
      "cell_type": "markdown",
      "source": [
        "**Q9**: What type of plot is generated here? How can you customize the line color or style?\n",
        "\n",
        "**Answer**:\n",
        "- Line Plot: The generated plot is a line plot, which connects individual data points (in this case, sales figures for each month) with lines. The points are marked with circular markers (marker='o'), and the line connecting them is styled with dashed lines (linestyle='--'). This type of plot is useful for showing trends over time.\n",
        "\n",
        "- You can customize the line color and style in Matplotlib by adjusting the parameters within the plt.plot() function"
      ],
      "metadata": {
        "id": "v7uJ20U9tvZD"
      }
    },
    {
      "cell_type": "markdown",
      "source": [
        "---\n",
        "\n",
        "### **10. Additional Resources**\n",
        "\n",
        "- **NumPy Documentation**: [https://numpy.org/doc/stable/](https://numpy.org/doc/stable/)\n",
        "- **pandas Documentation**: [https://pandas.pydata.org/pandas-docs/stable/](https://pandas.pydata.org/pandas-docs/stable/)\n",
        "- **Matplotlib Documentation**: [https://matplotlib.org/stable/contents.html](https://matplotlib.org/stable/contents.html)\n",
        "- **AI and Data Scientist Roadmap**: [https://roadmap.sh/ai-data-scientist](https://roadmap.sh/ai-data-scientist)"
      ],
      "metadata": {
        "id": "zUYLwQN3t01u"
      }
    }
  ]
}